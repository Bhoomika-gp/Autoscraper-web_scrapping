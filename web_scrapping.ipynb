{
 "cells": [
  {
   "cell_type": "code",
   "execution_count": 1,
   "metadata": {},
   "outputs": [
    {
     "name": "stdout",
     "output_type": "stream",
     "text": [
      "Collecting autoscraper\n",
      "  Using cached autoscraper-1.1.14-py3-none-any.whl (10 kB)\n",
      "Requirement already satisfied: requests in c:\\users\\patel\\anaconda3\\envs\\chicken\\lib\\site-packages (from autoscraper) (2.31.0)\n",
      "Collecting bs4 (from autoscraper)\n",
      "  Using cached bs4-0.0.1.tar.gz (1.1 kB)\n",
      "  Preparing metadata (setup.py): started\n",
      "  Preparing metadata (setup.py): finished with status 'done'\n",
      "Collecting lxml (from autoscraper)\n",
      "  Obtaining dependency information for lxml from https://files.pythonhosted.org/packages/7a/2f/61afbbb627e910d83613f198ceea270376f6708f52a95b534db10c67b4eb/lxml-4.9.3-cp38-cp38-win_amd64.whl.metadata\n",
      "  Downloading lxml-4.9.3-cp38-cp38-win_amd64.whl.metadata (3.8 kB)\n",
      "Requirement already satisfied: beautifulsoup4 in c:\\users\\patel\\anaconda3\\envs\\chicken\\lib\\site-packages (from bs4->autoscraper) (4.12.2)\n",
      "Requirement already satisfied: charset-normalizer<4,>=2 in c:\\users\\patel\\anaconda3\\envs\\chicken\\lib\\site-packages (from requests->autoscraper) (3.3.0)\n",
      "Requirement already satisfied: idna<4,>=2.5 in c:\\users\\patel\\anaconda3\\envs\\chicken\\lib\\site-packages (from requests->autoscraper) (3.4)\n",
      "Requirement already satisfied: urllib3<3,>=1.21.1 in c:\\users\\patel\\anaconda3\\envs\\chicken\\lib\\site-packages (from requests->autoscraper) (2.0.6)\n",
      "Requirement already satisfied: certifi>=2017.4.17 in c:\\users\\patel\\anaconda3\\envs\\chicken\\lib\\site-packages (from requests->autoscraper) (2023.7.22)\n",
      "Requirement already satisfied: soupsieve>1.2 in c:\\users\\patel\\anaconda3\\envs\\chicken\\lib\\site-packages (from beautifulsoup4->bs4->autoscraper) (2.5)\n",
      "Downloading lxml-4.9.3-cp38-cp38-win_amd64.whl (3.9 MB)\n",
      "   ---------------------------------------- 0.0/3.9 MB ? eta -:--:--\n",
      "   ---------------------------------------- 0.0/3.9 MB ? eta -:--:--\n",
      "   -- ------------------------------------- 0.3/3.9 MB 3.4 MB/s eta 0:00:02\n",
      "   --------- ------------------------------ 0.9/3.9 MB 6.6 MB/s eta 0:00:01\n",
      "   ----------------- ---------------------- 1.7/3.9 MB 8.2 MB/s eta 0:00:01\n",
      "   ------------------------ --------------- 2.4/3.9 MB 9.1 MB/s eta 0:00:01\n",
      "   -------------------------------- ------- 3.2/3.9 MB 9.6 MB/s eta 0:00:01\n",
      "   ----------------------------------- ---- 3.5/3.9 MB 9.8 MB/s eta 0:00:01\n",
      "   ---------------------------------------- 3.9/3.9 MB 9.2 MB/s eta 0:00:00\n",
      "Building wheels for collected packages: bs4\n",
      "  Building wheel for bs4 (setup.py): started\n",
      "  Building wheel for bs4 (setup.py): finished with status 'done'\n",
      "  Created wheel for bs4: filename=bs4-0.0.1-py3-none-any.whl size=1265 sha256=398f19d46679beca2898561540161dff848b4250ae7ad4d0a14a0c64aae665b0\n",
      "  Stored in directory: c:\\users\\patel\\appdata\\local\\pip\\cache\\wheels\\75\\78\\21\\68b124549c9bdc94f822c02fb9aa3578a669843f9767776bca\n",
      "Successfully built bs4\n",
      "Installing collected packages: lxml, bs4, autoscraper\n",
      "Successfully installed autoscraper-1.1.14 bs4-0.0.1 lxml-4.9.3\n"
     ]
    }
   ],
   "source": [
    "!pip install autoscraper"
   ]
  },
  {
   "cell_type": "code",
   "execution_count": 2,
   "metadata": {},
   "outputs": [],
   "source": [
    "from autoscraper import AutoScraper"
   ]
  },
  {
   "cell_type": "code",
   "execution_count": 26,
   "metadata": {},
   "outputs": [],
   "source": [
    "flipcart_url = \"https://www.flipkart.com/search?q=laptop&sid=6bo%2Cb5g&as=on&as-show=on&otracker=AS_QueryStore_OrganicAutoSuggest_1_3_na_na_na&otracker1=AS_QueryStore_OrganicAutoSuggest_1_3_na_na_na&as-pos=1&as-type=RECENT&suggestionId=laptop%7CLaptops&requestId=17bb65ae-d080-41a3-9930-6a9afea93d9b&as-searchtext=laptop\"\n",
    "wanted_list = ['₹23,990', \"CHUWI Core i3 10th Gen 1005G1 - (8 GB/512 GB SSD/Windows 11 Home) CoreBook X Grey Laptop\", '694']"
   ]
  },
  {
   "cell_type": "code",
   "execution_count": 27,
   "metadata": {},
   "outputs": [
    {
     "name": "stdout",
     "output_type": "stream",
     "text": [
      "['₹33,490', '₹23,990', '₹19,860', '₹49,990', '₹43,990', '₹26,990', '₹29,990', '₹35,899', '₹33,425', '₹31,990', '₹38,490', '₹14,990', '₹36,990', '₹33,990', '₹46,990', '₹47,990', 'HP 2023 Ryzen 3 Dual Core 3250U - (8 GB/512 GB SSD/Windows 11 Home) 15s- eq1580AU Thin and Light Laptop', 'CHUWI Core i3 10th Gen 1005G1 - (8 GB/512 GB SSD/Windows 11 Home) CoreBook X Grey Laptop', 'HP 255 G9 840T7PA Athlon Dual Core 3050U - (4 GB/256 GB SSD/DOS) 255 G8 Thin and Light Laptop', 'HP Ryzen 7 Octa Core 5700U - (16 GB/512 GB SSD/Windows 11 Home) 15s- ey2001au Thin and Light Laptop', 'Lenovo IdeaPad Slim 3 Intel Core i5 11th Gen 1135G7 - (16 GB/512 GB SSD/Windows 11 Home) 15ITL6 Thin and Light Laptop', 'Wings Nuvobook S1 Aluminium Alloy Metal Body Intel Core i3 11th Gen 1125G4 - (8 GB/256 GB SSD/Windows ...', 'Acer One Core i3 11th Gen 1115G4 - (8 GB/512 GB SSD/Windows 11 Home) AO 14 Z 8-415 Thin and Light Lapt...', 'HP 2023 Athlon Dual Core 3050U - (8 GB/512 GB SSD/Windows 11 Home) 15s-ey1509AU Thin and Light Laptop', 'HP Ryzen 3 Quad Core 5300U - (8 GB/512 GB SSD/Windows 11 Home) fq1089au Thin and Light Laptop', 'HP Core i3 11th Gen - (8 GB/512 GB SSD/Windows 11 Home) 250 G8 Thin and Light Laptop', 'Wings Nuvobook V1 Aluminium Alloy Metal Body Intel Core i5 11th Gen 1155G7 - (8 GB/512 GB SSD/Windows ...', 'DELL Inspiron Core i3 11th Gen 1115G4 - (8 GB/512 GB SSD/Windows 11 Home) INSPIRON 3511 Notebook', 'HP 2023 Ryzen 3 Dual Core 3250U - (8 GB/512 GB SSD/Windows 11 Home) 15s- eq1580AU Thin and Light Lapto...', 'ASUS Chromebook Celeron Dual Core N4500 - (4 GB/64 GB EMMC Storage/Chrome OS) CX1400CKA-EK0257 Chromeb...', 'DELL Core i3 12th Gen 1215U - (8 GB/512 GB SSD/Windows 11 Home) New Inspiron 15 Laptop Thin and Light ...', 'Infinix X2 Slim Intel Core i5 11th Gen 1155G7 - (16 GB/512 GB SSD/Windows 11 Home) XL23 Thin and Light...', 'Wings Nuvobook Pro Aluminium Alloy Metal Body Intel Core i7 11th Gen 1165G7 - (16 GB/512 GB SSD/Window...', 'ASUS Vivobook 15 Core i5 11th Gen 1135G7 - (16 GB/512 GB SSD/Windows 11 Home) X515EA-EJ542WS Thin and ...', 'Lenovo IdeaPad Slim 3 Intel Core i5 11th Gen 1135G7 - (16 GB/512 GB SSD/Windows 11 Home) 15ITL6 Thin a...', 'MSI Modern 14 Ryzen 5 Hexa Core 7530U - (8 GB/512 GB SSD/Windows 11 Home) Modern 14 C7M-063IN Thin and...', 'Acer Aspire 3 Ryzen 3 Quad Core 7320U - (8 GB/256 GB SSD/Windows 11 Home) A315-24P-R7HM Thin and Light...']\n"
     ]
    }
   ],
   "source": [
    "scraper = AutoScraper()\n",
    "result = scraper.build(flipcart_url,wanted_list)\n",
    "print(result)"
   ]
  },
  {
   "cell_type": "code",
   "execution_count": 28,
   "metadata": {},
   "outputs": [
    {
     "data": {
      "text/plain": [
       "{'rule_m78n': ['₹33,490', '₹23,990', '₹19,860', '₹28,640', '₹54,790'],\n",
       " 'rule_8hlm': ['₹26,990',\n",
       "  '₹31,990',\n",
       "  '₹54,790',\n",
       "  '₹26,990',\n",
       "  '₹29,990',\n",
       "  '₹33,490',\n",
       "  '₹46,990',\n",
       "  '₹26,990',\n",
       "  '₹38,990',\n",
       "  '₹36,990',\n",
       "  '₹31,990',\n",
       "  '₹46,990',\n",
       "  '₹28,640',\n",
       "  '₹35,990',\n",
       "  '₹25,990',\n",
       "  '₹19,860',\n",
       "  '₹23,990',\n",
       "  '₹26,990',\n",
       "  '₹68,990',\n",
       "  '₹14,990',\n",
       "  '₹31,990',\n",
       "  '₹31,990',\n",
       "  '₹33,990',\n",
       "  '₹36,999'],\n",
       " 'rule_d848': ['HP 2023 Ryzen 3 Dual Core 3250U - (8 GB/512 GB SSD/Windows 11 Home) 15s- eq1580AU Thin and Light Laptop',\n",
       "  'CHUWI Core i3 10th Gen 1005G1 - (8 GB/512 GB SSD/Windows 11 Home) CoreBook X Grey Laptop',\n",
       "  'HP 255 G9 840T7PA Athlon Dual Core 3050U - (4 GB/256 GB SSD/DOS) 255 G8 Thin and Light Laptop',\n",
       "  'Lenovo IdeaPad 1 Athlon Dual Core 7120U - (8 GB/512 GB SSD/Windows 11 Home) 15AMN7 Thin and Light Laptop',\n",
       "  'DELL Inspiron Core i5 12th Gen 1235U - (8 GB/512 GB SSD/Windows 11 Home) New Inspiron 15 Laptop Thin and Light Laptop'],\n",
       " 'rule_7m4e': ['Wings Nuvobook S1 Aluminium Alloy Metal Body Intel Core i3 11th Gen 1125G4 - (8 GB/256 GB SSD/Windows ...',\n",
       "  'Wings Nuvobook V1 Aluminium Alloy Metal Body Intel Core i5 11th Gen 1155G7 - (8 GB/512 GB SSD/Windows ...',\n",
       "  'DELL Inspiron Core i5 12th Gen 1235U - (8 GB/512 GB SSD/Windows 11 Home) New Inspiron 15 Laptop Thin a...',\n",
       "  'Acer One Core i3 11th Gen 1115G4 - (8 GB/512 GB SSD/Windows 11 Home) AO 14 Z 8-415 Thin and Light Lapt...',\n",
       "  'HP 2023 Athlon Dual Core 3050U - (8 GB/512 GB SSD/Windows 11 Home) 15s-ey1509AU Thin and Light Laptop',\n",
       "  'HP 2023 Ryzen 3 Dual Core 3250U - (8 GB/512 GB SSD/Windows 11 Home) 15s- eq1580AU Thin and Light Lapto...',\n",
       "  'Wings Nuvobook Pro Aluminium Alloy Metal Body Intel Core i7 11th Gen 1165G7 - (16 GB/512 GB SSD/Window...',\n",
       "  'Wings Nuvobook S1 Aluminium Alloy Metal Body Intel Core i3 11th Gen 1125G4 - (8 GB/256 GB SSD/Windows ...',\n",
       "  'Lenovo IdeaPad Slim 3 Intel Core i3 12th Gen 1215U - (8 GB/512 GB SSD/Windows 11 Home) 15IAU7 Thin and...',\n",
       "  'DELL Core i3 12th Gen 1215U - (8 GB/512 GB SSD/Windows 11 Home) New Inspiron 15 Laptop Thin and Light ...',\n",
       "  'Wings Nuvobook V1 Aluminium Alloy Metal Body Intel Core i5 11th Gen 1155G7 - (8 GB/512 GB SSD/Windows ...',\n",
       "  'Wings Nuvobook Pro Aluminium Alloy Metal Body Intel Core i7 11th Gen 1165G7 - (16 GB/512 GB SSD/Window...',\n",
       "  'Lenovo IdeaPad 1 Athlon Dual Core 7120U - (8 GB/512 GB SSD/Windows 11 Home) 15AMN7 Thin and Light Lapt...',\n",
       "  'Lenovo IdeaPad Slim 3 Intel Core i3 12th Gen 1215U - (8 GB/256 GB SSD/Windows 11 Home) 15IAU7 Thin and...',\n",
       "  'Infinix INBook Y1 Plus Intel Core i3 10th Gen 1005G1 - (8 GB/512 GB SSD/Windows 11 Home) XL28 Thin and...',\n",
       "  'HP 255 G9 840T7PA Athlon Dual Core 3050U - (4 GB/256 GB SSD/DOS) 255 G8 Thin and Light Laptop',\n",
       "  'CHUWI Core i3 10th Gen 1005G1 - (8 GB/512 GB SSD/Windows 11 Home) CoreBook X Grey Laptop',\n",
       "  'Wings Nuvobook S1 Aluminium Alloy Metal Body Intel Core i3 11th Gen 1125G4 - (8 GB/256 GB SSD/Windows ...',\n",
       "  'Acer Nitro 5 (2023) Ryzen 5 Hexa Core 7535HS - (16 GB/512 GB SSD/Windows 11 Home/4 GB Graphics/NVIDIA ...',\n",
       "  'ASUS Chromebook Celeron Dual Core N4500 - (4 GB/64 GB EMMC Storage/Chrome OS) CX1400CKA-EK0257 Chromeb...',\n",
       "  'Wings Nuvobook V1 Aluminium Alloy Metal Body Intel Core i5 11th Gen 1155G7 - (8 GB/512 GB SSD/Windows ...',\n",
       "  'Wings Nuvobook V1 Aluminium Alloy Metal Body Intel Core i5 11th Gen 1155G7 - (8 GB/512 GB SSD/Windows ...',\n",
       "  'Infinix X2 Slim Intel Core i5 11th Gen 1155G7 - (16 GB/512 GB SSD/Windows 11 Home) XL23 Thin and Light...',\n",
       "  'realme Book (Slim) Core i3 11th Gen 1115G4 - (8 GB/256 GB SSD/Windows 10 Home) RMNB1001 Thin and Light...'],\n",
       " 'rule_4ytp': ['Wings Nuvobook S1 Aluminium Alloy Metal Body Intel Core i3 11th Gen 1125G4 - (8 GB/256 GB SSD/Windows ...',\n",
       "  'Wings Nuvobook V1 Aluminium Alloy Metal Body Intel Core i5 11th Gen 1155G7 - (8 GB/512 GB SSD/Windows ...',\n",
       "  'DELL Inspiron Core i5 12th Gen 1235U - (8 GB/512 GB SSD/Windows 11 Home) New Inspiron 15 Laptop Thin a...',\n",
       "  'Acer One Core i3 11th Gen 1115G4 - (8 GB/512 GB SSD/Windows 11 Home) AO 14 Z 8-415 Thin and Light Lapt...',\n",
       "  'HP 2023 Athlon Dual Core 3050U - (8 GB/512 GB SSD/Windows 11 Home) 15s-ey1509AU Thin and Light Laptop',\n",
       "  'HP 2023 Ryzen 3 Dual Core 3250U - (8 GB/512 GB SSD/Windows 11 Home) 15s- eq1580AU Thin and Light Lapto...',\n",
       "  'Wings Nuvobook Pro Aluminium Alloy Metal Body Intel Core i7 11th Gen 1165G7 - (16 GB/512 GB SSD/Window...',\n",
       "  'Wings Nuvobook S1 Aluminium Alloy Metal Body Intel Core i3 11th Gen 1125G4 - (8 GB/256 GB SSD/Windows ...',\n",
       "  'Lenovo IdeaPad Slim 3 Intel Core i3 12th Gen 1215U - (8 GB/512 GB SSD/Windows 11 Home) 15IAU7 Thin and...',\n",
       "  'DELL Core i3 12th Gen 1215U - (8 GB/512 GB SSD/Windows 11 Home) New Inspiron 15 Laptop Thin and Light ...',\n",
       "  'Wings Nuvobook V1 Aluminium Alloy Metal Body Intel Core i5 11th Gen 1155G7 - (8 GB/512 GB SSD/Windows ...',\n",
       "  'Wings Nuvobook Pro Aluminium Alloy Metal Body Intel Core i7 11th Gen 1165G7 - (16 GB/512 GB SSD/Window...',\n",
       "  'Lenovo IdeaPad 1 Athlon Dual Core 7120U - (8 GB/512 GB SSD/Windows 11 Home) 15AMN7 Thin and Light Lapt...',\n",
       "  'Lenovo IdeaPad Slim 3 Intel Core i3 12th Gen 1215U - (8 GB/256 GB SSD/Windows 11 Home) 15IAU7 Thin and...',\n",
       "  'Infinix INBook Y1 Plus Intel Core i3 10th Gen 1005G1 - (8 GB/512 GB SSD/Windows 11 Home) XL28 Thin and...',\n",
       "  'HP 255 G9 840T7PA Athlon Dual Core 3050U - (4 GB/256 GB SSD/DOS) 255 G8 Thin and Light Laptop',\n",
       "  'CHUWI Core i3 10th Gen 1005G1 - (8 GB/512 GB SSD/Windows 11 Home) CoreBook X Grey Laptop',\n",
       "  'Wings Nuvobook S1 Aluminium Alloy Metal Body Intel Core i3 11th Gen 1125G4 - (8 GB/256 GB SSD/Windows ...',\n",
       "  'Acer Nitro 5 (2023) Ryzen 5 Hexa Core 7535HS - (16 GB/512 GB SSD/Windows 11 Home/4 GB Graphics/NVIDIA ...',\n",
       "  'ASUS Chromebook Celeron Dual Core N4500 - (4 GB/64 GB EMMC Storage/Chrome OS) CX1400CKA-EK0257 Chromeb...',\n",
       "  'Wings Nuvobook V1 Aluminium Alloy Metal Body Intel Core i5 11th Gen 1155G7 - (8 GB/512 GB SSD/Windows ...',\n",
       "  'Wings Nuvobook V1 Aluminium Alloy Metal Body Intel Core i5 11th Gen 1155G7 - (8 GB/512 GB SSD/Windows ...',\n",
       "  'Infinix X2 Slim Intel Core i5 11th Gen 1155G7 - (16 GB/512 GB SSD/Windows 11 Home) XL23 Thin and Light...',\n",
       "  'realme Book (Slim) Core i3 11th Gen 1115G4 - (8 GB/256 GB SSD/Windows 10 Home) RMNB1001 Thin and Light...']}"
      ]
     },
     "execution_count": 28,
     "metadata": {},
     "output_type": "execute_result"
    }
   ],
   "source": [
    "scraper.get_result_similar(flipcart_url, grouped=True)"
   ]
  },
  {
   "cell_type": "code",
   "execution_count": 29,
   "metadata": {},
   "outputs": [],
   "source": [
    "scraper.set_rule_aliases({'rule_7m4e': 'title', 'rule_8hlm': 'price'})\n",
    "scraper.keep_rules(['rule_7m4e', 'rule_8hlm'])\n",
    "scraper.save('flipcart.search')"
   ]
  },
  {
   "cell_type": "code",
   "execution_count": 30,
   "metadata": {},
   "outputs": [],
   "source": [
    "result = scraper.get_result_similar(\"https://www.flipkart.com/search?q=hp%20laptop&otracker=search&otracker1=search&marketplace=FLIPKART&as-show=on&as=off\", group_by_alias=True)"
   ]
  },
  {
   "cell_type": "code",
   "execution_count": 31,
   "metadata": {},
   "outputs": [
    {
     "data": {
      "text/plain": [
       "['ASUS TUF Gaming F15 - AI Powered Gaming Core i5 11th Gen 11260H - (8 GB/512 GB SSD/Windows 11 Home/4 G...',\n",
       " 'ASUS ROG Ally Ryzen Z1 Octa Core Extreme - (16 GB/512 GB SSD/Windows 11 Home) RC71L-NH001W Handheld Ga...',\n",
       " 'HP 2023 Athlon Dual Core 3050U - (8 GB/512 GB SSD/Windows 11 Home) 15s-ey1509AU Thin and Light Laptop',\n",
       " 'HP 2023 Ryzen 3 Dual Core 3250U - (8 GB/512 GB SSD/Windows 11 Home) 15s- eq1580AU Thin and Light Lapto...',\n",
       " 'HP 255 G9 840T7PA Athlon Dual Core 3050U - (4 GB/256 GB SSD/DOS) 255 G8 Thin and Light Laptop',\n",
       " 'HP Ryzen 5 Hexa Core 5500U - (8 GB/512 GB SSD/Windows 11 Home) 15s- eq2144au Thin and Light Laptop',\n",
       " 'HP Intel Core i3 12th Gen 1215U - (8 GB/512 GB SSD/Windows 11 Home) 15s-fq5007TU Thin and Light Laptop',\n",
       " 'ASUS TUF Gaming F15 - AI Powered Gaming Core i5 11th Gen 11260H - (16 GB/512 GB SSD/Windows 11 Home/4 ...',\n",
       " 'HP Intel Core i3 11th Gen 1115G4 - (8 GB/512 GB SSD/Windows 11 Home) 14s - dy2508TU Thin and Light Lap...',\n",
       " 'HP Ryzen 7 Octa Core 5700U - (16 GB/512 GB SSD/Windows 11 Home) 15s- ey2001au Thin and Light Laptop',\n",
       " 'ASUS TUF Gaming F15 with 90WHr Battery Core i5 11th Gen 11400H - (16 GB/512 GB SSD/Windows 11 Home/4 G...',\n",
       " 'ASUS ROG Flow X13 (2022) Ryzen 9 Octa Core 6900HS - (16 GB/1 TB SSD/Windows 11 Home/4 GB Graphics/NVID...',\n",
       " 'HP Core i3 11th Gen - (8 GB/512 GB SSD/Windows 11 Home) 250 G8 Thin and Light Laptop',\n",
       " 'HP Ryzen 3 Quad Core 7320U - (8 GB/512 GB SSD/Windows 11 Home) 15-fc0025AU Thin and Light Laptop',\n",
       " 'HP 841w6pa 255 g9 Ryzen 3 Dual Core AMD RyzenTM 3 processor 3250U - (8 GB/512 GB SSD/DOS) 255 G8 Laptop',\n",
       " 'HP 255 G9 841W6pa Ryzen 3 Dual Core - (8 GB/512 GB SSD/DOS) 6E3Z0PA Laptop',\n",
       " 'ASUS TUF Gaming F15 Core i5 12th Gen 12500H - (16 GB/512 GB SSD/Windows 11 Home/4 GB Graphics/NVIDIA G...',\n",
       " 'ASUS TUF Gaming F15 (2023) with 90WHr Battery Intel H-Series Core i7 12th Gen 12700H - (16 GB/512 GB S...',\n",
       " 'HP Ryzen 3 Quad Core 5300U - (8 GB/512 GB SSD/Windows 11 Home) fq1089au Thin and Light Laptop',\n",
       " 'HP Ryzen 5 Hexa Core 5500U - (16 GB/512 GB SSD/Windows 11 Home) 15s- eq2182AU Thin and Light Laptop',\n",
       " 'ASUS ROG Strix G15 (2022) Ryzen 7 Octa Core AMD R7-6800H - (16 GB/512 GB SSD/Windows 11 Home/4 GB Grap...',\n",
       " 'ASUS TUF Gaming A15 (2023) with 90WHr Battery Ryzen 7 Octa Core 7735HS - (16 GB/512 GB SSD/Windows 11 ...',\n",
       " 'HP Laptop 15s Celeron Dual Core Intel Celeron N4500 - (8 GB/512 GB SSD/Windows 11 Home) fq3071TU Thin ...',\n",
       " 'HP Ryzen 5 Hexa Core 5500U - (16 GB/512 GB SSD/Windows 11 Home) 15s-eq2132au Thin and Light Laptop']"
      ]
     },
     "execution_count": 31,
     "metadata": {},
     "output_type": "execute_result"
    }
   ],
   "source": [
    "result['title']"
   ]
  },
  {
   "cell_type": "code",
   "execution_count": 32,
   "metadata": {},
   "outputs": [
    {
     "data": {
      "text/plain": [
       "['₹53,990',\n",
       " '₹69,990',\n",
       " '₹29,990',\n",
       " '₹33,490',\n",
       " '₹19,860',\n",
       " '₹43,990',\n",
       " '₹41,990',\n",
       " '₹57,990',\n",
       " '₹38,490',\n",
       " '₹49,990',\n",
       " '₹61,990',\n",
       " '₹99,990',\n",
       " '₹33,425',\n",
       " '₹35,999',\n",
       " '₹25,999',\n",
       " '₹25,999',\n",
       " '₹72,990',\n",
       " '₹1,04,990',\n",
       " '₹35,899',\n",
       " '₹46,990',\n",
       " '₹96,990',\n",
       " '₹94,990',\n",
       " '₹28,980',\n",
       " '₹44,890']"
      ]
     },
     "execution_count": 32,
     "metadata": {},
     "output_type": "execute_result"
    }
   ],
   "source": [
    "result['price']"
   ]
  },
  {
   "cell_type": "code",
   "execution_count": null,
   "metadata": {},
   "outputs": [],
   "source": []
  }
 ],
 "metadata": {
  "kernelspec": {
   "display_name": "Python 3",
   "language": "python",
   "name": "python3"
  },
  "language_info": {
   "codemirror_mode": {
    "name": "ipython",
    "version": 3
   },
   "file_extension": ".py",
   "mimetype": "text/x-python",
   "name": "python",
   "nbconvert_exporter": "python",
   "pygments_lexer": "ipython3",
   "version": "3.8.18"
  }
 },
 "nbformat": 4,
 "nbformat_minor": 2
}
